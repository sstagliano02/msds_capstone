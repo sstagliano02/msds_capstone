{
 "cells": [
  {
   "cell_type": "code",
   "execution_count": 3,
   "metadata": {},
   "outputs": [],
   "source": [
    "import pandas as pd\n",
    "from sklearn.model_selection import train_test_split\n",
    "from sklearn.linear_model import LogisticRegression\n",
    "from sklearn.metrics import accuracy_score, classification_report\n",
    "\n",
    "rating_mapping = {\"-\":0,\n",
    "    \"AAA\": 1, \"AA+\": 2, \"AA\": 3, \"AA-\": 4,\n",
    "    \"A+\": 5, \"A\": 6, \"A-\": 7,\n",
    "    \"BBB+\": 8, \"BBB\": 9, \"BBB-\": 10,\n",
    "    \"BB+\": 11, \"BB\": 12, \"BB-\": 13,\n",
    "    \"B+\": 14, \"B\": 15, \"B-\": 16,\n",
    "    \"CCC+\": 17, \"CCC\": 18, \"CCC-\": 19,\n",
    "    \"CC\": 20, \"C\": 21, \"D\": 22\n",
    "}\n"
   ]
  },
  {
   "cell_type": "code",
   "execution_count": 10,
   "metadata": {},
   "outputs": [
    {
     "name": "stdout",
     "output_type": "stream",
     "text": [
      "0       0.0\n",
      "1       0.0\n",
      "2       0.0\n",
      "3       0.0\n",
      "4       0.0\n",
      "       ... \n",
      "8114    0.0\n",
      "8115    0.0\n",
      "8116    9.0\n",
      "8117    0.0\n",
      "8118    0.0\n",
      "Name: S&P Rating, Length: 8119, dtype: float64\n"
     ]
    }
   ],
   "source": [
    "data = pd.read_csv(\"snldata/regression_ready_clean.csv\")\n",
    "data['S&P Rating'] = data['sp_rating'].map(rating_mapping)\n",
    "data = data.replace({',': ''}, regex=True)\n",
    "data = data.apply(pd.to_numeric, errors='coerce')\n",
    "data = data.fillna(0)  # Drops rows with NaN values; you can also use .fillna() if preferred\n",
    "\n",
    "\n",
    "print(data['S&P Rating'])"
   ]
  },
  {
   "cell_type": "code",
   "execution_count": 11,
   "metadata": {},
   "outputs": [
    {
     "name": "stdout",
     "output_type": "stream",
     "text": [
      "Accuracy: 0.48091133004926107\n",
      "Classification Report:\n",
      "               precision    recall  f1-score   support\n",
      "\n",
      "           0       0.46      0.66      0.54       750\n",
      "           1       0.53      0.33      0.41       874\n",
      "\n",
      "    accuracy                           0.48      1624\n",
      "   macro avg       0.49      0.49      0.47      1624\n",
      "weighted avg       0.50      0.48      0.47      1624\n",
      "\n"
     ]
    },
    {
     "name": "stderr",
     "output_type": "stream",
     "text": [
      "c:\\Users\\Steve\\anaconda3\\envs\\capstone\\Lib\\site-packages\\sklearn\\linear_model\\_logistic.py:458: ConvergenceWarning: lbfgs failed to converge (status=1):\n",
      "STOP: TOTAL NO. of ITERATIONS REACHED LIMIT.\n",
      "\n",
      "Increase the number of iterations (max_iter) or scale the data as shown in:\n",
      "    https://scikit-learn.org/stable/modules/preprocessing.html\n",
      "Please also refer to the documentation for alternative solver options:\n",
      "    https://scikit-learn.org/stable/modules/linear_model.html#logistic-regression\n",
      "  n_iter_i = _check_optimize_result(\n"
     ]
    }
   ],
   "source": [
    "# Separate features and target variable\n",
    "X = data.iloc[:, 1:]  # all columns except the first one\n",
    "y = data.iloc[:, 0]   # the first column\n",
    "\n",
    "# Split data into training and testing sets (80/20 split)\n",
    "X_train, X_test, y_train, y_test = train_test_split(X, y, test_size=0.2, random_state=42)\n",
    "\n",
    "# Initialize and train the logistic regression model\n",
    "model = LogisticRegression()\n",
    "model.fit(X_train, y_train)\n",
    "\n",
    "# Make predictions on the test set\n",
    "y_pred = model.predict(X_test)\n",
    "\n",
    "# Evaluate the model\n",
    "accuracy = accuracy_score(y_test, y_pred)\n",
    "report = classification_report(y_test, y_pred)\n",
    "\n",
    "print(f\"Accuracy: {accuracy}\")\n",
    "print(\"Classification Report:\\n\", report)"
   ]
  }
 ],
 "metadata": {
  "kernelspec": {
   "display_name": "capstone",
   "language": "python",
   "name": "python3"
  },
  "language_info": {
   "codemirror_mode": {
    "name": "ipython",
    "version": 3
   },
   "file_extension": ".py",
   "mimetype": "text/x-python",
   "name": "python",
   "nbconvert_exporter": "python",
   "pygments_lexer": "ipython3",
   "version": "3.11.7"
  }
 },
 "nbformat": 4,
 "nbformat_minor": 2
}
